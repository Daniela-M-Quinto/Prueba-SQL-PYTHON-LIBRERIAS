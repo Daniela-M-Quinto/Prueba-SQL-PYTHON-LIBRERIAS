{
 "cells": [
  {
   "cell_type": "code",
   "execution_count": null,
   "id": "09db3935",
   "metadata": {},
   "outputs": [
    {
     "name": "stdout",
     "output_type": "stream",
     "text": [
      "✅ Conexión creada correctamente.\n"
     ]
    }
   ],
   "source": [
    "# ===========================================\n",
    "# CONEXIÓN A POSTGRESQL USANDO SQLALCHEMY\n",
    "# ===========================================\n",
    "from sqlalchemy import create_engine\n",
    "import pandas as pd\n",
    "\n",
    "# Credenciales (ajusta a las que te dio tu TL)\n",
    "USER = \"postgres\"\n",
    "PASSWORD = \"123\"\n",
    "HOST = \"localhost\"\n",
    "PORT = \"5432\"\n",
    "DBNAME = \"prueba\"\n",
    "\n",
    "# Crear el engine de conexión\n",
    "try:\n",
    "    engine = create_engine(f\"postgresql+psycopg2://{USER}:{PASSWORD}@{HOST}:{PORT}/{DBNAME}\")\n",
    "    print(\"Conexión creada correctamente.\")\n",
    "except Exception as e:\n",
    "    print(\"Error al crear la conexión:\", {e})\n"
   ]
  },
  {
   "cell_type": "code",
   "execution_count": 13,
   "id": "9dff9afb",
   "metadata": {},
   "outputs": [
    {
     "name": "stdout",
     "output_type": "stream",
     "text": [
      "Conexión verificada, número de registros en la tabla orders: 11\n"
     ]
    }
   ],
   "source": [
    "if engine:\n",
    "    try: \n",
    "        query_check=\"SELECT count(*) FROM orders;\"\n",
    "        df = pd.read_sql((query_check), engine)\n",
    "        count = df.iloc[0,0]\n",
    "        print(\"Conexión verificada, número de registros en la tabla orders:\", count)\n",
    "    except Exception as e:\n",
    "        print(f\"No se han encontrado registros en la tabla orders: {e}\")"
   ]
  }
 ],
 "metadata": {
  "kernelspec": {
   "display_name": "base",
   "language": "python",
   "name": "python3"
  },
  "language_info": {
   "codemirror_mode": {
    "name": "ipython",
    "version": 3
   },
   "file_extension": ".py",
   "mimetype": "text/x-python",
   "name": "python",
   "nbconvert_exporter": "python",
   "pygments_lexer": "ipython3",
   "version": "3.13.5"
  }
 },
 "nbformat": 4,
 "nbformat_minor": 5
}
